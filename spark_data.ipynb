{
 "cells": [
  {
   "cell_type": "code",
   "execution_count": null,
   "id": "0eae0c70",
   "metadata": {},
   "outputs": [],
   "source": [
    "%pip install pyspark pandas setuptools"
   ]
  },
  {
   "cell_type": "code",
   "execution_count": 13,
   "id": "import-libraries",
   "metadata": {},
   "outputs": [],
   "source": [
    "# Import necessary libraries\n",
    "from pyspark.sql import SparkSession\n",
    "import pandas as pd\n",
    "import random"
   ]
  },
  {
   "cell_type": "code",
   "execution_count": null,
   "id": "initialize-spark",
   "metadata": {},
   "outputs": [],
   "source": [
    "if 'spark' in locals():\n",
    "    spark.stop()\n",
    "    \n",
    "# Initialize Spark session with Hive support\n",
    "spark = SparkSession.builder \\\n",
    "    .appName(\"MySQL to Hive Bronze Layer\") \\\n",
    "    .master(\"spark://localhost:7077\") \\\n",
    "    .config(\"spark.jars\", \"./jars/mysql-connector-j-9.0.0.jar\") \\\n",
    "    .config(\"spark.sql.warehouse.dir\", \"hdfs://localhost:8020/opt/hive/warehouse\") \\\n",
    "    .config(\"hive.metastore.uris\", \"thrift://localhost:9083\") \\\n",
    "    .config(\"spark.driver.port\", \"4040\") \\\n",
    "    .config(\"spark.driver.blockManager.port\", \"4041\") \\\n",
    "    .config(\"spark.port.maxRetries\", \"50\") \\\n",
    "    .enableHiveSupport() \\\n",
    "    .getOrCreate()\n",
    "\n",
    "# notebook in the same docker network\n",
    "# time.sleep(5)\n",
    "# # Initialize Spark session with Hive support\n",
    "# spark = SparkSession.builder \\\n",
    "#     .appName(\"MySQL to Hive Bronze Layer\") \\\n",
    "#     .master(\"spark://spark:7077\") \\\n",
    "#     .config(\"spark.jars\", \"./jars/mysql-connector-j-9.0.0.jar\") \\\n",
    "#     .config(\"spark.sql.warehouse.dir\", \"hdfs://hdfs-namenode:8020/opt/hive/warehouse\") \\\n",
    "#     .config(\"hive.metastore.uris\", \"thrift://hive-metastore:9083\") \\\n",
    "#     .config(\"spark.driver.port\", \"4040\") \\\n",
    "#     .config(\"spark.driver.blockManager.port\", \"4041\") \\\n",
    "#     .config(\"spark.port.maxRetries\", \"50\") \\\n",
    "#     .enableHiveSupport() \\\n",
    "#     .getOrCreate()\n",
    "\n",
    "print(spark)"
   ]
  },
  {
   "cell_type": "code",
   "execution_count": 7,
   "id": "create-dataframe",
   "metadata": {},
   "outputs": [],
   "source": [
    "# MySQL connection properties\n",
    "mysql_url = \"jdbc:mysql://localhost:3306/chinook\"\n",
    "mysql_properties = {\n",
    "    \"user\": \"root\",\n",
    "    \"password\": \"rootpass\",\n",
    "    \"driver\": \"com.mysql.cj.jdbc.Driver\"\n",
    "}"
   ]
  },
  {
   "cell_type": "code",
   "execution_count": null,
   "id": "convert-to-spark-dataframe",
   "metadata": {},
   "outputs": [],
   "source": [
    "df = spark.sql(\"SELECT * FROM employee\")\n",
    "df.show()\n",
    "\n",
    "\n",
    "# Read data from MySQL employee table\n",
    "employee_df = spark.read.jdbc(mysql_url, \"employee\", properties=mysql_properties)\n",
    "\n",
    "# Perform any necessary transformations (for example, renaming columns)\n",
    "employee_df_transformed = employee_df.withColumnRenamed(\"employeeid\", \"employee_id\")\n",
    "\n",
    "# Write the transformed data to Hive (bronze layer)\n",
    "employee_df_transformed.write.mode(\"overwrite\").saveAsTable(\"bronze.employee\")\n"
   ]
  },
  {
   "cell_type": "code",
   "execution_count": null,
   "id": "stop-spark",
   "metadata": {},
   "outputs": [],
   "source": [
    "# Stop the Spark session\n",
    "spark.stop()"
   ]
  }
 ],
 "metadata": {
  "kernelspec": {
   "display_name": "Python 3",
   "language": "python",
   "name": "python3"
  },
  "language_info": {
   "codemirror_mode": {
    "name": "ipython",
    "version": 3
   },
   "file_extension": ".py",
   "mimetype": "text/x-python",
   "name": "python",
   "nbconvert_exporter": "python",
   "pygments_lexer": "ipython3",
   "version": "3.12.0"
  }
 },
 "nbformat": 4,
 "nbformat_minor": 5
}
